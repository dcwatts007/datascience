{
 "cells": [
  {
   "cell_type": "markdown",
   "metadata": {},
   "source": [
    "Connected to Python 3.13.7"
   ]
  },
  {
   "cell_type": "code",
   "execution_count": null,
   "id": "e87029c8-47af-4393-a2bc-d31cad72e16f",
   "metadata": {
    "vscode": {
     "languageId": "quarto"
    }
   },
   "outputs": [],
   "source": [
    "import pandas as pd \n",
    "import numpy as np\n",
    "import sqlite3\n",
    "from lets_plot import *\n",
    "\n",
    "LetsPlot.setup_html(isolated_frame=True)"
   ]
  },
  {
   "cell_type": "code",
   "execution_count": null,
   "id": "adf8597a-0616-44ed-9d60-9990da735521",
   "metadata": {
    "vscode": {
     "languageId": "quarto"
    }
   },
   "outputs": [],
   "source": [
    "# Learn morea about Code Cells: https://quarto.org/docs/reference/cells/cells-jupyter.html\n",
    "\n",
    "# Include and execute your code here\n",
    "sqlite_file = 'lahmansbaseballdb.sqlite'\n",
    "# this file must be in the same location as your .qmd or .py file\n",
    "con = sqlite3.connect(sqlite_file)"
   ]
  }
 ],
 "metadata": {
  "kernelspec": {
   "display_name": "Python 3",
   "language": "python",
   "name": "python3"
  },
  "language_info": {
   "name": "python",
   "version": "3.13.7"
  }
 },
 "nbformat": 4,
 "nbformat_minor": 5
}
